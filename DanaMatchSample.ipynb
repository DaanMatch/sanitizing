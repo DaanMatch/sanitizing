{
 "cells": [
  {
   "cell_type": "code",
   "execution_count": 1,
   "metadata": {},
   "outputs": [],
   "source": [
    "import csv\n",
    "import ipywidgets as widgets\n",
    "import json\n",
    "\n",
    "import pandas as pd\n",
    "\n",
    "import numpy as np\n",
    "\n",
    "import seaborn as sns\n",
    "sns.set()\n",
    "\n",
    "import random\n",
    "\n",
    "import re\n",
    "\n",
    "from my_nlp import *"
   ]
  },
  {
   "cell_type": "markdown",
   "metadata": {},
   "source": [
    "## Read csv"
   ]
  },
  {
   "cell_type": "code",
   "execution_count": 2,
   "metadata": {},
   "outputs": [],
   "source": [
    "DarpanFcraDF = pd.read_csv('Darpan21FCRA.csv', dtype = {'S.No.': 'string', 'Registration': 'string'})\n",
    "out = widgets.Output(layout={'border': '1px solid black'})\n",
    "out\n",
    "with out:\n",
    "    print(DarpanFcraDF)"
   ]
  },
  {
   "cell_type": "markdown",
   "metadata": {},
   "source": [
    "## Generate 10k random sample"
   ]
  },
  {
   "cell_type": "code",
   "execution_count": 3,
   "metadata": {},
   "outputs": [
    {
     "name": "stdout",
     "output_type": "stream",
     "text": [
      "<class 'pandas.core.frame.DataFrame'>\n",
      "Int64Index: 10000 entries, 66103 to 38780\n",
      "Data columns (total 49 columns):\n",
      " #   Column                      Non-Null Count  Dtype  \n",
      "---  ------                      --------------  -----  \n",
      " 0   Name                        10000 non-null  object \n",
      " 1   ngo url                     2373 non-null   object \n",
      " 2   Mobile                      9998 non-null   float64\n",
      " 3   UniqueID                    10000 non-null  object \n",
      " 4   Off phone1                  1483 non-null   object \n",
      " 5   Email                       10000 non-null  object \n",
      " 6   Major Activities1           7508 non-null   object \n",
      " 7   operational states db       7901 non-null   object \n",
      " 8   issues working db           7936 non-null   object \n",
      " 9   operational district db     7901 non-null   object \n",
      " 10  fcrano                      2002 non-null   object \n",
      " 11  nr regNo                    10000 non-null  object \n",
      " 12  nr add                      10000 non-null  object \n",
      " 13  nr orgName                  10000 non-null  object \n",
      " 14  ngo reg date                10000 non-null  object \n",
      " 15  nr actName                  9902 non-null   object \n",
      " 16  nr city                     9991 non-null   object \n",
      " 17  TypeDescription             10000 non-null  object \n",
      " 18  StateName                   10000 non-null  object \n",
      " 19  president name              5233 non-null   object \n",
      " 20  president email             5233 non-null   object \n",
      " 21  president mobile            5233 non-null   float64\n",
      " 22  Chairman name               2710 non-null   object \n",
      " 23  Chairman email              2709 non-null   object \n",
      " 24  Chairman mobile             2708 non-null   float64\n",
      " 25  Secretary name              6684 non-null   object \n",
      " 26  Secretary email             6683 non-null   object \n",
      " 27  Secretary mobile            6682 non-null   float64\n",
      " 28  Asisstant Secretary name    92 non-null     object \n",
      " 29  Asisstant Secretary email   92 non-null     object \n",
      " 30  Asisstant Secretary mobile  92 non-null     float64\n",
      " 31  Board Member name           429 non-null    object \n",
      " 32  Board Member email          429 non-null    object \n",
      " 33  Board Member mobile         429 non-null    float64\n",
      " 34  Vice Chairman name          499 non-null    object \n",
      " 35  Vice Chairman email         499 non-null    object \n",
      " 36  Vice Chairman mobile        499 non-null    float64\n",
      " 37  Member name                 2672 non-null   object \n",
      " 38  Member email                2672 non-null   object \n",
      " 39  Member mobile               2672 non-null   float64\n",
      " 40  CleanName                   10000 non-null  object \n",
      " 41  CleanState                  10000 non-null  object \n",
      " 42  Location                    1002 non-null   object \n",
      " 43  S.No.                       1002 non-null   string \n",
      " 44  Registration                1002 non-null   string \n",
      " 45  AssociationName             1002 non-null   object \n",
      " 46  Address                     999 non-null    object \n",
      " 47  Nature                      1002 non-null   object \n",
      " 48  FCRA                        2126 non-null   object \n",
      "dtypes: float64(8), object(39), string(2)\n",
      "memory usage: 3.8+ MB\n"
     ]
    }
   ],
   "source": [
    "DarpanFcraDF = DarpanFcraDF.sample(n = 10000)\n",
    "DarpanFcraDF.info()"
   ]
  },
  {
   "cell_type": "markdown",
   "metadata": {},
   "source": [
    "## Write sample csv"
   ]
  },
  {
   "cell_type": "code",
   "execution_count": 4,
   "metadata": {},
   "outputs": [],
   "source": [
    "DarpanFcraDF.to_csv('SampleDarpan21FCRA.csv', index=False)"
   ]
  },
  {
   "cell_type": "markdown",
   "metadata": {},
   "source": [
    "# Make sets of IDs for all tags\n",
    "#### tags are \"All\", \"FCRA\", \"URL\", \"MA1\""
   ]
  },
  {
   "cell_type": "code",
   "execution_count": 5,
   "metadata": {},
   "outputs": [],
   "source": [
    "TagsToIDVL = []\n",
    "TagsToIDD = {}"
   ]
  },
  {
   "cell_type": "markdown",
   "metadata": {},
   "source": [
    "### All NGO IDs"
   ]
  },
  {
   "cell_type": "code",
   "execution_count": 6,
   "metadata": {},
   "outputs": [],
   "source": [
    "AllIDV = set(DarpanFcraDF.UniqueID)"
   ]
  },
  {
   "cell_type": "code",
   "execution_count": 7,
   "metadata": {},
   "outputs": [
    {
     "data": {
      "text/plain": [
       "9967"
      ]
     },
     "execution_count": 7,
     "metadata": {},
     "output_type": "execute_result"
    }
   ],
   "source": [
    "TagsToIDVL.append({'tag': 'All', 'IDSet': AllIDV})\n",
    "TagsToIDD['All'] = list(AllIDV)\n",
    "len(AllIDV)"
   ]
  },
  {
   "cell_type": "markdown",
   "metadata": {},
   "source": [
    "### FCRA number exists?"
   ]
  },
  {
   "cell_type": "code",
   "execution_count": 8,
   "metadata": {},
   "outputs": [],
   "source": [
    "FCRAV = set(DarpanFcraDF.UniqueID[DarpanFcraDF.FCRA.notnull()])"
   ]
  },
  {
   "cell_type": "code",
   "execution_count": 9,
   "metadata": {},
   "outputs": [
    {
     "data": {
      "text/plain": [
       "2093"
      ]
     },
     "execution_count": 9,
     "metadata": {},
     "output_type": "execute_result"
    }
   ],
   "source": [
    "TagsToIDVL.append({'tag': 'FCRA', 'IDSet': FCRAV})\n",
    "TagsToIDD['FCRA'] = list(FCRAV)\n",
    "len(FCRAV)"
   ]
  },
  {
   "cell_type": "markdown",
   "metadata": {},
   "source": [
    "### URL exists?"
   ]
  },
  {
   "cell_type": "code",
   "execution_count": 10,
   "metadata": {},
   "outputs": [],
   "source": [
    "URLV = set(DarpanFcraDF.UniqueID[DarpanFcraDF['ngo url'].notnull()])"
   ]
  },
  {
   "cell_type": "code",
   "execution_count": 11,
   "metadata": {},
   "outputs": [
    {
     "data": {
      "text/plain": [
       "2371"
      ]
     },
     "execution_count": 11,
     "metadata": {},
     "output_type": "execute_result"
    }
   ],
   "source": [
    "TagsToIDVL.append({'tag': 'URL', 'IDSet': URLV})\n",
    "TagsToIDD['URL'] = list(URLV)\n",
    "len(URLV)"
   ]
  },
  {
   "cell_type": "markdown",
   "metadata": {},
   "source": [
    "### Major activities exists?"
   ]
  },
  {
   "cell_type": "code",
   "execution_count": 12,
   "metadata": {},
   "outputs": [],
   "source": [
    "MA1V = set(DarpanFcraDF.UniqueID[DarpanFcraDF['Major Activities1'].notnull()])"
   ]
  },
  {
   "cell_type": "code",
   "execution_count": 13,
   "metadata": {},
   "outputs": [
    {
     "data": {
      "text/plain": [
       "7483"
      ]
     },
     "execution_count": 13,
     "metadata": {},
     "output_type": "execute_result"
    }
   ],
   "source": [
    "TagsToIDVL.append({'tag': 'MajorActivities', 'IDSet': MA1V})\n",
    "TagsToIDD['MA1'] = list(MA1V)\n",
    "len(MA1V)"
   ]
  },
  {
   "cell_type": "markdown",
   "metadata": {},
   "source": [
    "## Write csv for tags and IDs\n",
    "https://www.geeksforgeeks.org/how-to-save-a-python-dictionary-to-a-csv-file/"
   ]
  },
  {
   "cell_type": "code",
   "execution_count": 14,
   "metadata": {},
   "outputs": [],
   "source": [
    "field_names = ['tag', 'IDSet']\n",
    "with open('SampleTagsToIDV.csv', 'w') as csvfile:\n",
    "    writer = csv.DictWriter(csvfile, fieldnames = field_names)\n",
    "    writer.writeheader()\n",
    "    writer.writerows(TagsToIDVL)"
   ]
  },
  {
   "cell_type": "markdown",
   "metadata": {},
   "source": [
    "## write json for tags and IDs\n",
    "https://www.geeksforgeeks.org/how-to-convert-python-dictionary-to-json/"
   ]
  },
  {
   "cell_type": "code",
   "execution_count": 15,
   "metadata": {},
   "outputs": [],
   "source": [
    "# TagsToIDD[tag] = [UniqueID]\n",
    "with open(\"SampleTagsToIDList.json\", \"w\") as outfile: \n",
    "    json.dump(TagsToIDD, outfile)"
   ]
  },
  {
   "cell_type": "markdown",
   "metadata": {},
   "source": [
    "# Make reverse look up dictionaries for Issues, States and Districts"
   ]
  },
  {
   "cell_type": "markdown",
   "metadata": {},
   "source": [
    "Issues:\n",
    "\"Agriculture,Environment & Forests,Health & Family Welfare,\"\n",
    "States:\n",
    "\"UTTAR PRADESH, testingswss, UTTAR PRADESH, testingswss, UTTAR PRADESH,\"\n",
    "Need to strip, remove '' and 'testingswss' and dedupe."
   ]
  },
  {
   "cell_type": "code",
   "execution_count": 16,
   "metadata": {
    "scrolled": true
   },
   "outputs": [],
   "source": [
    "IssueToIDD = {}\n",
    "StateToIDD = {}\n",
    "IDToStateDistD = {}\n",
    "for index, row in DarpanFcraDF.iterrows():\n",
    "    UniqueID = row['UniqueID']\n",
    "    Issues = row['issues working db']\n",
    "    States = row['operational states db']\n",
    "    Dists =row['operational district db']\n",
    "\n",
    "    # issues dict\n",
    "    try:\n",
    "        IssuesL = list(set(Issues.split(',')))\n",
    "        IssuesL.remove('')\n",
    "        for issue in IssuesL:\n",
    "            if issue in IssueToIDD:\n",
    "                IssueToIDD[issue].append(UniqueID)\n",
    "            else:\n",
    "                IssueToIDD[issue] = [UniqueID]\n",
    "    except (AttributeError, ValueError):\n",
    "        pass\n",
    "\n",
    "    # states dict\n",
    "    try:\n",
    "        StatesL = list(set(map(lambda s: s.strip(), States.split(','))))\n",
    "        StatesL.remove('')\n",
    "        StatesL.remove('testingswss')\n",
    "        for state in StatesL:\n",
    "            if state in StateToIDD:\n",
    "                StateToIDD[state].append(UniqueID)\n",
    "            else:\n",
    "                StateToIDD[state] = [UniqueID]\n",
    "    except (AttributeError, ValueError):\n",
    "        pass\n",
    "    \n",
    "    # districts list\n",
    "    try:\n",
    "        Dists1 = Dists.replace('->', ',')\n",
    "        DistL = list(map(lambda s: s.strip(), Dists1.split(',')))\n",
    "    except (AttributeError, ValueError):\n",
    "        pass\n",
    "\n",
    "    DistL = [elem for elem in DistL if elem != '']\n",
    "    DistL = [elem for elem in DistL if elem != 'testingswss']\n",
    "    \n",
    "    # ID to states/districts\n",
    "    IDToStateDistD[UniqueID] = {}\n",
    "    for state in StatesL:\n",
    "        IDToStateDistD[UniqueID][state] = []\n",
    "\n",
    "    for location in DistL:\n",
    "        if location in StatesL:\n",
    "            state = location\n",
    "        else:\n",
    "            IDToStateDistD[UniqueID][state].append(location)\n",
    "\n",
    "    for state in StatesL:\n",
    "        IDToStateDistD[UniqueID][state] = list(set(IDToStateDistD[UniqueID][state]))\n",
    "    "
   ]
  },
  {
   "cell_type": "code",
   "execution_count": 17,
   "metadata": {},
   "outputs": [],
   "source": [
    "StateDistToIDD = {}\n",
    "for ID in IDToStateDistD:\n",
    "    for state in IDToStateDistD[ID]:\n",
    "        if state in StateDistToIDD:\n",
    "            pass\n",
    "        else:\n",
    "            StateDistToIDD[state] = {}\n",
    "        for dist in IDToStateDistD[ID][state]:\n",
    "            if dist in StateDistToIDD[state]:\n",
    "                StateDistToIDD[state][dist].append(ID)\n",
    "            else: \n",
    "                StateDistToIDD[state][dist] = [ID]\n"
   ]
  },
  {
   "cell_type": "code",
   "execution_count": 18,
   "metadata": {},
   "outputs": [],
   "source": [
    "StatesL = list(StateDistToIDD.keys())\n",
    "StatesSer = pd.Series(StatesL)\n",
    "\n",
    "IssuesSer = pd.Series(list(IssueToIDD.keys()))"
   ]
  },
  {
   "cell_type": "markdown",
   "metadata": {},
   "source": [
    "## write json for sets of NGOs in Issue, State and State, Dist\n",
    "https://www.geeksforgeeks.org/how-to-convert-python-dictionary-to-json/"
   ]
  },
  {
   "cell_type": "code",
   "execution_count": 19,
   "metadata": {},
   "outputs": [],
   "source": [
    "# IssueToIDD[issue] = [UniqueID]\n",
    "with open(\"SampleIssueToIDList.json\", \"w\") as outfile: \n",
    "    json.dump(IssueToIDD, outfile)\n",
    "\n",
    "# StateToIDD[state] = [UniqueID]\n",
    "with open(\"SampleStateToIDList.json\", \"w\") as outfile: \n",
    "    json.dump(StateToIDD, outfile)\n",
    "\n",
    "# StateDistToIDD[state][dist] = [UniqueID]\n",
    "with open(\"SampleStateDistToIDList.json\", \"w\") as outfile: \n",
    "    json.dump(StateDistToIDD, outfile)\n"
   ]
  },
  {
   "cell_type": "markdown",
   "metadata": {},
   "source": [
    "## Write csv for sets of NGOs by feature"
   ]
  },
  {
   "cell_type": "markdown",
   "metadata": {},
   "source": [
    "### Write csv for sets of NGOs by issue"
   ]
  },
  {
   "cell_type": "code",
   "execution_count": 20,
   "metadata": {},
   "outputs": [],
   "source": [
    "IssueToIDVL = []\n",
    "for issue in IssueToIDD:\n",
    "    IssueToIDVL.append({'issue': issue, 'IDSet': IssueToIDD[issue]})\n",
    "\n",
    "field_names = ['issue', 'IDSet']\n",
    "with open('SampleIssueToIDV.csv', 'w') as csvfile:\n",
    "    writer = csv.DictWriter(csvfile, fieldnames = field_names)\n",
    "    writer.writeheader()\n",
    "    writer.writerows(IssueToIDVL)"
   ]
  },
  {
   "cell_type": "markdown",
   "metadata": {},
   "source": [
    "### Write csv for sets of NGOs by State"
   ]
  },
  {
   "cell_type": "code",
   "execution_count": 21,
   "metadata": {},
   "outputs": [],
   "source": [
    "StateToIDVL = []\n",
    "for state in StateToIDD:\n",
    "    StateToIDVL.append({'state': state, 'IDSet': StateToIDD[state]})\n",
    "\n",
    "field_names = ['state', 'IDSet']\n",
    "with open('SampleStateToIDV.csv', 'w') as csvfile:\n",
    "    writer = csv.DictWriter(csvfile, fieldnames = field_names)\n",
    "    writer.writeheader()\n",
    "    writer.writerows(StateToIDVL)"
   ]
  },
  {
   "cell_type": "markdown",
   "metadata": {},
   "source": [
    "### Write csv for sets of NGOs by State and Dist"
   ]
  },
  {
   "cell_type": "code",
   "execution_count": 22,
   "metadata": {},
   "outputs": [],
   "source": [
    "StateDistToIDVL = []\n",
    "for state in StateDistToIDD:\n",
    "    for dist in StateDistToIDD[state]:\n",
    "        StateDistToIDVL.append({'state': state, 'dist': dist, 'IDSet': StateDistToIDD[state][dist]})\n",
    "\n",
    "field_names = ['state', 'dist', 'IDSet']\n",
    "with open('SampleStateDistToIDV.csv', 'w') as csvfile:\n",
    "    writer = csv.DictWriter(csvfile, fieldnames = field_names)\n",
    "    writer.writeheader()\n",
    "    writer.writerows(StateDistToIDVL)"
   ]
  },
  {
   "cell_type": "markdown",
   "metadata": {},
   "source": [
    "# Filter NGOs"
   ]
  },
  {
   "cell_type": "markdown",
   "metadata": {},
   "source": [
    "## Select Issues"
   ]
  },
  {
   "cell_type": "code",
   "execution_count": 23,
   "metadata": {
    "scrolled": false
   },
   "outputs": [
    {
     "data": {
      "text/plain": [
       "0                                   Any Other\n",
       "1                                 Agriculture\n",
       "2                     Health & Family Welfare\n",
       "3                         Disaster Management\n",
       "4                                    Children\n",
       "5                                    HIV/AIDS\n",
       "6                                      Sports\n",
       "7                       Environment & Forests\n",
       "8           Women's Development & Empowerment\n",
       "9                        Education & Literacy\n",
       "10                             Tribal Affairs\n",
       "11                             Drinking Water\n",
       "12                       Dairying & Fisheries\n",
       "13                           Animal Husbandry\n",
       "14                              Art & Culture\n",
       "15                        Vocational Training\n",
       "16                            Minority Issues\n",
       "17                       Science & Technology\n",
       "18                              Biotechnology\n",
       "19                             Land Resources\n",
       "20           Micro Small & Medium Enterprises\n",
       "21                               Human Rights\n",
       "22                            Water Resources\n",
       "23           Scientific & Industrial Research\n",
       "24                      Legal Awareness & Aid\n",
       "25    Urban Development & Poverty Alleviation\n",
       "26                           Dalit Upliftment\n",
       "27                            Food Processing\n",
       "28                              Youth Affairs\n",
       "29    Rural Development & Poverty Alleviation\n",
       "30     Information & Communication Technology\n",
       "31                               Aged/Elderly\n",
       "32                          Differently Abled\n",
       "33                             Panchayati Raj\n",
       "34                        Labour & Employment\n",
       "35            Right to Information & Advocacy\n",
       "36                                    Housing\n",
       "37                               Civic Issues\n",
       "38                                  Nutrition\n",
       "39                       Micro Finance (SHGs)\n",
       "40                     New & Renewable Energy\n",
       "41                          Prisoner's Issues\n",
       "42                                    Tourism\n",
       "43                          Skill Development\n",
       "dtype: object"
      ]
     },
     "execution_count": 23,
     "metadata": {},
     "output_type": "execute_result"
    }
   ],
   "source": [
    "IssueToIDD.keys(),\n",
    "IssuesSer"
   ]
  },
  {
   "cell_type": "code",
   "execution_count": 24,
   "metadata": {
    "scrolled": true
   },
   "outputs": [
    {
     "name": "stdout",
     "output_type": "stream",
     "text": [
      "Select index of (preferably) one issue (or indices of upto 3 Issues) you are interested in, separated by ',' ind1, ind2, ind3 from above list\n",
      "37, 33, 36\n",
      "Number of NGOs in Issue Civic Issues = 1323\n",
      "Number of NGOs in Issue Panchayati Raj = 1091\n",
      "Number of NGOs in Issue Housing = 798\n",
      "Number of NGOs in any of the Issues = 1999\n"
     ]
    }
   ],
   "source": [
    "selection = input(\"Select index of (preferably) one issue (or indices of upto 3 Issues) you are interested in, separated by ',' ind1, ind2, ind3 from above list\\n\").split(',')\n",
    "\n",
    "IDInIssuesV = set()\n",
    "for ind in selection:\n",
    "    print(\"Number of NGOs in Issue\", IssuesSer[int(ind)], \"=\", len(IssueToIDD[IssuesSer[int(ind)]]))\n",
    "    IDInIssuesV = IDInIssuesV.union(set(IssueToIDD[IssuesSer[int(ind)]]))\n",
    "print(\"Number of NGOs in any of the Issues =\", len(IDInIssuesV))"
   ]
  },
  {
   "cell_type": "markdown",
   "metadata": {},
   "source": [
    "## Select Region (States or Districts in a State)"
   ]
  },
  {
   "cell_type": "code",
   "execution_count": 26,
   "metadata": {},
   "outputs": [
    {
     "name": "stdout",
     "output_type": "stream",
     "text": [
      "To select up to 3 districts from a single state, type '1', else '0' - you will have the choice of selecting up to 3 states\n",
      "0\n",
      "0                     KARNATAKA\n",
      "1                     RAJASTHAN\n",
      "2                         DELHI\n",
      "3                    TAMIL NADU\n",
      "4                 UTTAR PRADESH\n",
      "5                   WEST BENGAL\n",
      "6                   MAHARASHTRA\n",
      "7                MADHYA PRADESH\n",
      "8                        KERALA\n",
      "9                ANDHRA PRADESH\n",
      "10              JAMMU & KASHMIR\n",
      "11                      HARYANA\n",
      "12                        BIHAR\n",
      "13                 CHHATTISGARH\n",
      "14                      GUJARAT\n",
      "15                   PUDUCHERRY\n",
      "16             HIMACHAL PRADESH\n",
      "17                       ORISSA\n",
      "18                       PUNJAB\n",
      "19                       LADAKH\n",
      "20                   CHANDIGARH\n",
      "21                  UTTARAKHAND\n",
      "22                      TRIPURA\n",
      "23                    JHARKHAND\n",
      "24                        ASSAM\n",
      "25                      MANIPUR\n",
      "26            ARUNACHAL PRADESH\n",
      "27                    TELANGANA\n",
      "28                          GOA\n",
      "29                      MIZORAM\n",
      "30                     NAGALAND\n",
      "31    ANDAMAN & NICOBAR ISLANDS\n",
      "32                    MEGHALAYA\n",
      "33                       SIKKIM\n",
      "34         DADRA & NAGAR HAVELI\n",
      "35                  LAKSHADWEEP\n",
      "36                  DAMAN & DIU\n",
      "dtype: object\n",
      "\n",
      "Select indices of upto 3 states you are interested in, separated by ',' ind1, ind2, ind3 from above list\n",
      "0, 1, 2\n",
      "number of NGOs in KARNATAKA = 6\n",
      "number of NGOs in RAJASTHAN = 14\n",
      "number of NGOs in DELHI = 19\n",
      "number of NGOs in region = 20\n"
     ]
    }
   ],
   "source": [
    "DistrictsOrStates = str(input(\"To select up to 3 districts from a single state, type '1', else '0' - you will have the choice of selecting up to 3 states\\n\"))\n",
    "\n",
    "if DistrictsOrStates == '1':\n",
    "    print(StatesL,'\\n')\n",
    "\n",
    "    TheState = str(input(\"Select ONLY ONE state whose districts you are interested in\\n\"))\n",
    "\n",
    "    StateDistL = list(StateDistToIDD[TheState].keys())\n",
    "    print('\\n', StateDistL, '\\n')\n",
    "\n",
    "    selection = str(input(\"Select upto 3 districts you are interested in from above list, separated by ','\\n\")).split(',')\n",
    "\n",
    "    IDInRegionV = set()\n",
    "    for dist in selection:\n",
    "        print(\"number of NGOs in\", dist, \"=\", len(StateDistToIDD[TheState][dist.strip()]))\n",
    "        IDInRegionV = IDInRegionV.union(set(StateDistToIDD[TheState][dist.strip()]))\n",
    "    print(\"number of NGOs in region = \", len(IDInRegionV))\n",
    "\n",
    "else:\n",
    "    print(StatesSer)\n",
    "    selection = input(\"\\nSelect indices of upto 3 states you are interested in, separated by ',' ind1, ind2, ind3 from above list\\n\").split(',')\n",
    "\n",
    "    IDInRegionV = set()\n",
    "    for ind in selection:\n",
    "        print(\"number of NGOs in\", StatesSer[int(ind)], \"=\", len(StateToIDD[StatesSer[int(ind)]]))\n",
    "        IDInRegionV = IDInRegionV.union(set(StateToIDD[StatesSer[int(ind)]]))\n",
    "    print(\"number of NGOs in region =\", len(IDInRegionV))"
   ]
  },
  {
   "cell_type": "code",
   "execution_count": 27,
   "metadata": {},
   "outputs": [
    {
     "name": "stdout",
     "output_type": "stream",
     "text": [
      "Number of NGOs in Issues and region = 12\n"
     ]
    }
   ],
   "source": [
    "FinalV = IDInIssuesV.intersection(IDInRegionV)\n",
    "print(\"Number of NGOs in Issues and region =\", len(FinalV))"
   ]
  },
  {
   "cell_type": "markdown",
   "metadata": {},
   "source": [
    "## Select tags"
   ]
  },
  {
   "cell_type": "code",
   "execution_count": 28,
   "metadata": {},
   "outputs": [
    {
     "name": "stdout",
     "output_type": "stream",
     "text": [
      "Are you a looking to make a donation to an NGO in Foreign Currency?\n",
      "'1' for 'Yes' '0' for 'No'\n",
      "0\n"
     ]
    }
   ],
   "source": [
    "FCRATag = str(input(\"Are you a looking to make a donation to an NGO in Foreign Currency?\\n'1' for 'Yes' '0' for 'No'\\n\"))\n",
    "\n",
    "FCRAReqV = AllIDV\n",
    "if FCRATag == '1':\n",
    "    FCRAReqV = FCRAV"
   ]
  },
  {
   "cell_type": "code",
   "execution_count": 29,
   "metadata": {},
   "outputs": [
    {
     "name": "stdout",
     "output_type": "stream",
     "text": [
      "Do you want to be able to explore the NGO's website?\n",
      "'1' for 'Yes' '0' for 'No'\n",
      "1\n"
     ]
    }
   ],
   "source": [
    "URLTag = str(input(\"Do you want to be able to explore the NGO's website?\\n'1' for 'Yes' '0' for 'No'\\n\"))\n",
    "\n",
    "URLReqV = AllIDV\n",
    "if URLTag == '1':\n",
    "    URLReqV = URLV"
   ]
  },
  {
   "cell_type": "code",
   "execution_count": 30,
   "metadata": {},
   "outputs": [
    {
     "name": "stdout",
     "output_type": "stream",
     "text": [
      "Would you like to be able to see the NGO's description of Major Activities?\n",
      "'1' for 'Yes' '0' for 'No'\n",
      "1\n"
     ]
    }
   ],
   "source": [
    "MATag = str(input(\"Would you like to be able to see the NGO's description of Major Activities?\\n'1' for 'Yes' '0' for 'No'\\n\"))\n",
    "\n",
    "MAReqV = AllIDV\n",
    "if MATag == '1':\n",
    "    MAReqV = MA1V"
   ]
  },
  {
   "cell_type": "markdown",
   "metadata": {},
   "source": [
    "## Final set"
   ]
  },
  {
   "cell_type": "code",
   "execution_count": 31,
   "metadata": {},
   "outputs": [
    {
     "name": "stdout",
     "output_type": "stream",
     "text": [
      "Number of filtered NGOs = 12\n"
     ]
    }
   ],
   "source": [
    "FinalV = FinalV.intersection(FCRAReqV)\n",
    "print(\"Number of filtered NGOs =\", len(FinalV))"
   ]
  },
  {
   "cell_type": "code",
   "execution_count": 32,
   "metadata": {},
   "outputs": [
    {
     "name": "stdout",
     "output_type": "stream",
     "text": [
      "Number of filtered NGOs = 8\n"
     ]
    }
   ],
   "source": [
    "FinalV = FinalV.intersection(URLReqV)\n",
    "print(\"Number of filtered NGOs =\", len(FinalV))"
   ]
  },
  {
   "cell_type": "code",
   "execution_count": 33,
   "metadata": {},
   "outputs": [
    {
     "name": "stdout",
     "output_type": "stream",
     "text": [
      "Number of filtered NGOs = 8\n"
     ]
    }
   ],
   "source": [
    "FinalV = FinalV.intersection(MAReqV)\n",
    "print(\"Number of filtered NGOs =\", len(FinalV))"
   ]
  },
  {
   "cell_type": "code",
   "execution_count": null,
   "metadata": {},
   "outputs": [],
   "source": []
  },
  {
   "cell_type": "markdown",
   "metadata": {},
   "source": [
    "# Show info for sample of 5"
   ]
  },
  {
   "cell_type": "code",
   "execution_count": 34,
   "metadata": {},
   "outputs": [],
   "source": [
    "FinalL = list(FinalV)\n",
    "sampleL = random.sample(FinalL, 5)"
   ]
  },
  {
   "cell_type": "code",
   "execution_count": 35,
   "metadata": {},
   "outputs": [],
   "source": [
    "DarpanFcraDF.set_index(\"UniqueID\", inplace=True)"
   ]
  },
  {
   "cell_type": "code",
   "execution_count": 36,
   "metadata": {},
   "outputs": [
    {
     "data": {
      "text/html": [
       "<div>\n",
       "<style scoped>\n",
       "    .dataframe tbody tr th:only-of-type {\n",
       "        vertical-align: middle;\n",
       "    }\n",
       "\n",
       "    .dataframe tbody tr th {\n",
       "        vertical-align: top;\n",
       "    }\n",
       "\n",
       "    .dataframe thead th {\n",
       "        text-align: right;\n",
       "    }\n",
       "</style>\n",
       "<table border=\"1\" class=\"dataframe\">\n",
       "  <thead>\n",
       "    <tr style=\"text-align: right;\">\n",
       "      <th></th>\n",
       "      <th>Name</th>\n",
       "      <th>ngo url</th>\n",
       "      <th>Email</th>\n",
       "      <th>Mobile</th>\n",
       "      <th>Major Activities1</th>\n",
       "      <th>Secretary name</th>\n",
       "      <th>Secretary mobile</th>\n",
       "      <th>Secretary email</th>\n",
       "    </tr>\n",
       "    <tr>\n",
       "      <th>UniqueID</th>\n",
       "      <th></th>\n",
       "      <th></th>\n",
       "      <th></th>\n",
       "      <th></th>\n",
       "      <th></th>\n",
       "      <th></th>\n",
       "      <th></th>\n",
       "      <th></th>\n",
       "    </tr>\n",
       "  </thead>\n",
       "  <tbody>\n",
       "    <tr>\n",
       "      <th>DL/2010/0026305</th>\n",
       "      <td>Sansaptak</td>\n",
       "      <td>http://www.sansaptaktheatre.com</td>\n",
       "      <td>sansaptak.theatre@gmail.com</td>\n",
       "      <td>9.818652e+09</td>\n",
       "      <td>1. First to experiment on minimalism under the...</td>\n",
       "      <td>Anjon Bose</td>\n",
       "      <td>9.871737e+09</td>\n",
       "      <td>abose.macbeth@gmail.com</td>\n",
       "    </tr>\n",
       "    <tr>\n",
       "      <th>TN/2016/0111485</th>\n",
       "      <td>Bright Light Society</td>\n",
       "      <td>http://blsngo.org</td>\n",
       "      <td>blsngo1995@gmail.com</td>\n",
       "      <td>8.939883e+09</td>\n",
       "      <td>Natural Resource Management Education Skill De...</td>\n",
       "      <td>T</td>\n",
       "      <td>8.939883e+09</td>\n",
       "      <td>blsngo1995@gmail.com</td>\n",
       "    </tr>\n",
       "    <tr>\n",
       "      <th>UP/2011/0045804</th>\n",
       "      <td>Veena Vadini Children And Woman Educational We...</td>\n",
       "      <td>http://veenavadini.co.in/</td>\n",
       "      <td>veenavadni@gmail.com</td>\n",
       "      <td>9.412751e+09</td>\n",
       "      <td>employment and education, welfare , development</td>\n",
       "      <td>Veena Pathak</td>\n",
       "      <td>9.412751e+09</td>\n",
       "      <td>veenavadni@gmail.com</td>\n",
       "    </tr>\n",
       "    <tr>\n",
       "      <th>DL/2009/0000637</th>\n",
       "      <td>DHRUVH SOCIAL AWARENESS FORUM</td>\n",
       "      <td>http://dhruvh.org.in</td>\n",
       "      <td>dhruvh@gmail.com</td>\n",
       "      <td>9.873343e+09</td>\n",
       "      <td>Our main motto is to uplift the backward secto...</td>\n",
       "      <td>Narinder</td>\n",
       "      <td>9.968697e+09</td>\n",
       "      <td>dhruvh@gmail.com</td>\n",
       "    </tr>\n",
       "    <tr>\n",
       "      <th>MP/2010/0030527</th>\n",
       "      <td>KIRTI BALLET AND PERFORMING ARTS</td>\n",
       "      <td>http://</td>\n",
       "      <td>kirtiballet_arts@yahoo.in</td>\n",
       "      <td>9.993943e+09</td>\n",
       "      <td>KIRTI BALLETE AND PERFORMING ARTS Kirti Ballet...</td>\n",
       "      <td>CHANDRA</td>\n",
       "      <td>9.993943e+09</td>\n",
       "      <td>kirtiballet_arts@yahoo.com</td>\n",
       "    </tr>\n",
       "  </tbody>\n",
       "</table>\n",
       "</div>"
      ],
      "text/plain": [
       "                                                              Name  \\\n",
       "UniqueID                                                             \n",
       "DL/2010/0026305                                          Sansaptak   \n",
       "TN/2016/0111485                               Bright Light Society   \n",
       "UP/2011/0045804  Veena Vadini Children And Woman Educational We...   \n",
       "DL/2009/0000637                      DHRUVH SOCIAL AWARENESS FORUM   \n",
       "MP/2010/0030527                   KIRTI BALLET AND PERFORMING ARTS   \n",
       "\n",
       "                                         ngo url                        Email  \\\n",
       "UniqueID                                                                        \n",
       "DL/2010/0026305  http://www.sansaptaktheatre.com  sansaptak.theatre@gmail.com   \n",
       "TN/2016/0111485                http://blsngo.org         blsngo1995@gmail.com   \n",
       "UP/2011/0045804        http://veenavadini.co.in/         veenavadni@gmail.com   \n",
       "DL/2009/0000637             http://dhruvh.org.in             dhruvh@gmail.com   \n",
       "MP/2010/0030527                          http://    kirtiballet_arts@yahoo.in   \n",
       "\n",
       "                       Mobile  \\\n",
       "UniqueID                        \n",
       "DL/2010/0026305  9.818652e+09   \n",
       "TN/2016/0111485  8.939883e+09   \n",
       "UP/2011/0045804  9.412751e+09   \n",
       "DL/2009/0000637  9.873343e+09   \n",
       "MP/2010/0030527  9.993943e+09   \n",
       "\n",
       "                                                 Major Activities1  \\\n",
       "UniqueID                                                             \n",
       "DL/2010/0026305  1. First to experiment on minimalism under the...   \n",
       "TN/2016/0111485  Natural Resource Management Education Skill De...   \n",
       "UP/2011/0045804    employment and education, welfare , development   \n",
       "DL/2009/0000637  Our main motto is to uplift the backward secto...   \n",
       "MP/2010/0030527  KIRTI BALLETE AND PERFORMING ARTS Kirti Ballet...   \n",
       "\n",
       "                Secretary name  Secretary mobile             Secretary email  \n",
       "UniqueID                                                                      \n",
       "DL/2010/0026305     Anjon Bose      9.871737e+09     abose.macbeth@gmail.com  \n",
       "TN/2016/0111485              T      8.939883e+09        blsngo1995@gmail.com  \n",
       "UP/2011/0045804   Veena Pathak      9.412751e+09        veenavadni@gmail.com  \n",
       "DL/2009/0000637       Narinder      9.968697e+09            dhruvh@gmail.com  \n",
       "MP/2010/0030527        CHANDRA      9.993943e+09  kirtiballet_arts@yahoo.com  "
      ]
     },
     "execution_count": 36,
     "metadata": {},
     "output_type": "execute_result"
    }
   ],
   "source": [
    "DarpanFcraDF.loc[sampleL][['Name', 'ngo url', 'Email', 'Mobile', 'Major Activities1', 'Secretary name', 'Secretary mobile', 'Secretary email']]"
   ]
  },
  {
   "cell_type": "code",
   "execution_count": null,
   "metadata": {},
   "outputs": [],
   "source": []
  }
 ],
 "metadata": {
  "kernelspec": {
   "display_name": "Python 3",
   "language": "python",
   "name": "python3"
  },
  "language_info": {
   "codemirror_mode": {
    "name": "ipython",
    "version": 3
   },
   "file_extension": ".py",
   "mimetype": "text/x-python",
   "name": "python",
   "nbconvert_exporter": "python",
   "pygments_lexer": "ipython3",
   "version": "3.7.6"
  }
 },
 "nbformat": 4,
 "nbformat_minor": 4
}